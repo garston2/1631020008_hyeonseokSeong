{
 "cells": [
  {
   "cell_type": "markdown",
   "metadata": {
    "deletable": true,
    "editable": true
   },
   "source": [
    "### 2017. 03. 14 JongSeop Park"
   ]
  },
  {
   "cell_type": "markdown",
   "metadata": {
    "deletable": true,
    "editable": true
   },
   "source": [
    "# Class: Neuron"
   ]
  },
  {
   "cell_type": "code",
   "execution_count": 1,
   "metadata": {
    "collapsed": false,
    "deletable": true,
    "editable": true,
    "scrolled": true
   },
   "outputs": [],
   "source": [
    "from __future__ import print_function\n",
    "\n",
    "class Neuron:\n",
    "    def __init__(self, init_w = 0.0, init_b = 0.0):\n",
    "        self.w = init_w   # weight of one input\n",
    "        self.b = init_b   # bias\n",
    "        print(\"Initial w: {0}, b: {1}\".format(self.w, self.b))\n",
    "\n",
    "    def get_u(self, input):\n",
    "        return self.w * input + self.b\n",
    "    \n",
    "    def get_u2(self, input):\n",
    "        return np.dot(self.w, input) + self.b\n",
    "\n",
    "\n",
    "    def f(self, u):\n",
    "        return max(0.0, u)\n",
    "\n",
    "    def z(self, input):\n",
    "        if input.size == 2:\n",
    "            u = self.get_u2(input)\n",
    "        else:\n",
    "            u = self.get_u(input)\n",
    "        \n",
    "        return self.f(u)\n",
    "    \n",
    "    def squared_error(self, input, z_target):\n",
    "        return (0.5 * math.pow(self.z(input) - z_target, 2))\n",
    "\n",
    "    def f_derivative(self, u):\n",
    "        if u >= 0:\n",
    "            return 1\n",
    "        else:\n",
    "            return 0\n",
    "    \n",
    "    # def numerical_f_derivative(self, u):\n",
    "    #     delta = 0.00000001\n",
    "    #     return (self.f(u + delta) - self.f(u)) / delta\n",
    "\n",
    "    def d_E_over_d_w(self, input, z_target):\n",
    "        u = self.get_u(input)\n",
    "        z = self.f(u)\n",
    "        error = z - z_target\n",
    "        return error * self.f_derivative(u) * input\n",
    "\n",
    "    def d_E_over_d_b(self, input, z_target):\n",
    "        u = self.get_u(input)\n",
    "        z = self.f(u)\n",
    "        error = z - z_target\n",
    "        return error * self.f_derivative(u)\n",
    "\n",
    "    def learning(self, alpha, maxEpoch, data):\n",
    "        for i in range(maxEpoch):\n",
    "            for idx in range(data.numTrainData):\n",
    "                input = data.training_input_value[idx]\n",
    "                z_target = data.training_z_target[idx]\n",
    "\n",
    "                self.w = self.w - alpha * self.d_E_over_d_w(input, z_target)\n",
    "                self.b = self.b - alpha * self.d_E_over_d_b(input, z_target)\n",
    "\n",
    "            sum = 0.0\n",
    "            for idx in range(data.numTrainData):\n",
    "                sum = sum + self.squared_error(data.training_input_value[idx], data.training_z_target[idx])\n",
    "            print(\"Epoch {0:5d}: Error: {1:15.7e}, w: {2:15.7e}, b: {3:15.7e}\".format(i, sum / data.numTrainData, self.w, self.b))\n",
    "\n"
   ]
  },
  {
   "cell_type": "markdown",
   "metadata": {
    "deletable": true,
    "editable": true
   },
   "source": [
    "# Class: Data"
   ]
  },
  {
   "cell_type": "code",
   "execution_count": 2,
   "metadata": {
    "collapsed": true,
    "deletable": true,
    "editable": true
   },
   "outputs": [],
   "source": [
    "import math\n",
    "\n",
    "class Data:\n",
    "    def __init__(self):\n",
    "        #self.training_input_value = [1.0, 2.0, 3.0]\n",
    "        #self.training_z_target = [6.0, 7.0, 8.0]\n",
    "        \n",
    "        # 데이터를 더 줄 경우 학습이 더 잘 된다.\n",
    "        self.training_input_value = [1.0, 2.0, 3.0, 4.0]\n",
    "        self.training_z_target = [6.0, 7.0, 8.0, 9.0]\n",
    "        \n",
    "        self.numTrainData = len(self.training_input_value)"
   ]
  },
  {
   "cell_type": "markdown",
   "metadata": {
    "deletable": true,
    "editable": true
   },
   "source": [
    "# main#1"
   ]
  },
  {
   "cell_type": "code",
   "execution_count": 3,
   "metadata": {
    "collapsed": false,
    "deletable": true,
    "editable": true
   },
   "outputs": [
    {
     "name": "stdout",
     "output_type": "stream",
     "text": [
      "Initial w: 5.0, b: -1.0\n"
     ]
    },
    {
     "ename": "AttributeError",
     "evalue": "'float' object has no attribute 'size'",
     "output_type": "error",
     "traceback": [
      "\u001b[1;31m---------------------------------------------------------------------------\u001b[0m",
      "\u001b[1;31mAttributeError\u001b[0m                            Traceback (most recent call last)",
      "\u001b[1;32m<ipython-input-3-4786f491c2aa>\u001b[0m in \u001b[0;36m<module>\u001b[1;34m()\u001b[0m\n\u001b[0;32m      1\u001b[0m \u001b[1;32mif\u001b[0m \u001b[0m__name__\u001b[0m \u001b[1;33m==\u001b[0m \u001b[1;34m'__main__'\u001b[0m\u001b[1;33m:\u001b[0m\u001b[1;33m\u001b[0m\u001b[0m\n\u001b[0;32m      2\u001b[0m     \u001b[0mn\u001b[0m \u001b[1;33m=\u001b[0m \u001b[0mNeuron\u001b[0m\u001b[1;33m(\u001b[0m\u001b[1;36m5.0\u001b[0m\u001b[1;33m,\u001b[0m \u001b[1;33m-\u001b[0m\u001b[1;36m1.0\u001b[0m\u001b[1;33m)\u001b[0m\u001b[1;33m\u001b[0m\u001b[0m\n\u001b[1;32m----> 3\u001b[1;33m     \u001b[0mprint\u001b[0m\u001b[1;33m(\u001b[0m\u001b[0mn\u001b[0m\u001b[1;33m.\u001b[0m\u001b[0mz\u001b[0m\u001b[1;33m(\u001b[0m\u001b[1;36m1.0\u001b[0m\u001b[1;33m)\u001b[0m\u001b[1;33m)\u001b[0m\u001b[1;33m\u001b[0m\u001b[0m\n\u001b[0m\u001b[0;32m      4\u001b[0m     \u001b[0mprint\u001b[0m\u001b[1;33m(\u001b[0m\u001b[0mn\u001b[0m\u001b[1;33m.\u001b[0m\u001b[0mz\u001b[0m\u001b[1;33m(\u001b[0m\u001b[1;36m2.0\u001b[0m\u001b[1;33m)\u001b[0m\u001b[1;33m)\u001b[0m\u001b[1;33m\u001b[0m\u001b[0m\n\u001b[0;32m      5\u001b[0m     \u001b[0mprint\u001b[0m\u001b[1;33m(\u001b[0m\u001b[0mn\u001b[0m\u001b[1;33m.\u001b[0m\u001b[0mz\u001b[0m\u001b[1;33m(\u001b[0m\u001b[1;36m3.0\u001b[0m\u001b[1;33m)\u001b[0m\u001b[1;33m)\u001b[0m\u001b[1;33m\u001b[0m\u001b[0m\n",
      "\u001b[1;32m<ipython-input-1-8874a684e749>\u001b[0m in \u001b[0;36mz\u001b[1;34m(self, input)\u001b[0m\n\u001b[0;32m     18\u001b[0m \u001b[1;33m\u001b[0m\u001b[0m\n\u001b[0;32m     19\u001b[0m     \u001b[1;32mdef\u001b[0m \u001b[0mz\u001b[0m\u001b[1;33m(\u001b[0m\u001b[0mself\u001b[0m\u001b[1;33m,\u001b[0m \u001b[0minput\u001b[0m\u001b[1;33m)\u001b[0m\u001b[1;33m:\u001b[0m\u001b[1;33m\u001b[0m\u001b[0m\n\u001b[1;32m---> 20\u001b[1;33m         \u001b[1;32mif\u001b[0m \u001b[0minput\u001b[0m\u001b[1;33m.\u001b[0m\u001b[0msize\u001b[0m \u001b[1;33m==\u001b[0m \u001b[1;36m2\u001b[0m\u001b[1;33m:\u001b[0m\u001b[1;33m\u001b[0m\u001b[0m\n\u001b[0m\u001b[0;32m     21\u001b[0m             \u001b[0mu\u001b[0m \u001b[1;33m=\u001b[0m \u001b[0mself\u001b[0m\u001b[1;33m.\u001b[0m\u001b[0mget_u2\u001b[0m\u001b[1;33m(\u001b[0m\u001b[0minput\u001b[0m\u001b[1;33m)\u001b[0m\u001b[1;33m\u001b[0m\u001b[0m\n\u001b[0;32m     22\u001b[0m         \u001b[1;32melse\u001b[0m\u001b[1;33m:\u001b[0m\u001b[1;33m\u001b[0m\u001b[0m\n",
      "\u001b[1;31mAttributeError\u001b[0m: 'float' object has no attribute 'size'"
     ]
    }
   ],
   "source": [
    "if __name__ == '__main__':\n",
    "    n = Neuron(5.0, -1.0)\n",
    "    print(n.z(1.0))\n",
    "    print(n.z(2.0))\n",
    "    print(n.z(3.0))"
   ]
  },
  {
   "cell_type": "markdown",
   "metadata": {
    "deletable": true,
    "editable": true
   },
   "source": [
    "# main#2"
   ]
  },
  {
   "cell_type": "code",
   "execution_count": null,
   "metadata": {
    "collapsed": false,
    "deletable": true,
    "editable": true
   },
   "outputs": [],
   "source": [
    "if __name__ == '__main__':\n",
    "    n = Neuron(5.0, -1.0)\n",
    "    d = Data()\n",
    "    \n",
    "    # 참고: Python 3.x에서는 xrange 메서드 사용 안 함. (대신 range 사용)\n",
    "    for idx in range(d.numTrainData): \n",
    "        input = d.training_input_value[idx]\n",
    "        z = n.z(input)\n",
    "        z_target = d.training_z_target[idx]\n",
    "        error = n.squared_error(input, z_target)\n",
    "        print(\"x: {0}, z: {1}, z_target: {2}, error: {3}\".format(input, z, z_target, error))"
   ]
  },
  {
   "cell_type": "markdown",
   "metadata": {
    "deletable": true,
    "editable": true
   },
   "source": [
    "# main#3"
   ]
  },
  {
   "cell_type": "code",
   "execution_count": null,
   "metadata": {
    "collapsed": false,
    "deletable": true,
    "editable": true
   },
   "outputs": [],
   "source": [
    "\n",
    "if __name__ == '__main__':\n",
    "    n = Neuron(5.0, -1.0)\n",
    "    d = Data()\n",
    "    for idx in range(d.numTrainData):\n",
    "        input = d.training_input_value[idx]\n",
    "        z = n.z(input)\n",
    "        z_target = d.training_z_target[idx]\n",
    "        error = n.squared_error(input, z_target)\n",
    "        print(\"x: {0:8.5f}, z: {1:8.5f}, z_target: {2:8.5f}, error: {3:8.5f}\".format(input, z, z_target, error))\n",
    "\n",
    "    # 파라미터 설정\n",
    "    alpha = 0.1 # Learning Rate\n",
    "    nEpochs = 100 # 반복 수\n",
    "    n.learning(alpha, nEpochs, d)\n",
    "    \n",
    "    print(\"\\n\")\n",
    "\n",
    "    for idx in range(d.numTrainData):\n",
    "        input = d.training_input_value[idx]\n",
    "        z = n.z(input)\n",
    "        z_target = d.training_z_target[idx]\n",
    "        error = n.squared_error(input, z_target)\n",
    "        print(\"x: {0:8.5f}, z: {1:8.5f}, z_target: {2:8.5f}, error: {3:8.5f}\".format(input, z, z_target, error))\n",
    "        "
   ]
  },
  {
   "cell_type": "markdown",
   "metadata": {
    "deletable": true,
    "editable": true
   },
   "source": [
    "# AND / OR Gate Neuron Learning"
   ]
  },
  {
   "cell_type": "code",
   "execution_count": null,
   "metadata": {
    "collapsed": false,
    "deletable": true,
    "editable": true
   },
   "outputs": [],
   "source": [
    "from __future__ import print_function\n",
    "import numpy as np\n",
    "import random\n",
    "\n",
    "class Data:\n",
    "    def __init__(self):\n",
    "        self.training_input_value = np.array([(0.0, 0.0), (1.0, 0.0), (0.0, 1.0), (1.0, 1.0)])\n",
    "        \n",
    "        # AND Gate일 경우 출력\n",
    "        self.training_z_target = np.array([0.0, 0.0, 0.0, 1.0]) \n",
    "        \n",
    "        # Or Gate일 경우 출력\n",
    "        self.training_z_target = np.array([0.0, 1.0, 1.0, 1.0])\n",
    "        \n",
    "        self.numTrainData = len(self.training_input_value)\n"
   ]
  },
  {
   "cell_type": "markdown",
   "metadata": {
    "deletable": true,
    "editable": true
   },
   "source": [
    "# main#1"
   ]
  },
  {
   "cell_type": "code",
   "execution_count": null,
   "metadata": {
    "collapsed": false,
    "deletable": true,
    "editable": true
   },
   "outputs": [],
   "source": [
    "if __name__ == '__main__':\n",
    "    n = Neuron()\n",
    "    d = Data()\n",
    "    for idx in range(d.numTrainData):\n",
    "        input = d.training_input_value[idx]\n",
    "        z = n.z(input)\n",
    "        z_target = d.training_z_target[idx]\n",
    "        print(\"x: {0}, z: {1:10.9f}, z_target: {2}\".format(input, z, z_target))"
   ]
  },
  {
   "cell_type": "markdown",
   "metadata": {
    "deletable": true,
    "editable": true
   },
   "source": [
    "# main#2"
   ]
  },
  {
   "cell_type": "code",
   "execution_count": null,
   "metadata": {
    "collapsed": false,
    "deletable": true,
    "editable": true
   },
   "outputs": [],
   "source": [
    "if __name__ == '__main__':\n",
    "    n = GateNeuron()\n",
    "    d = Data()\n",
    "    for idx in range(d.numTrainData):\n",
    "        input = d.training_input_value[idx]\n",
    "        z = n.z(input)\n",
    "        z_target = d.training_z_target[idx]\n",
    "        error = n.squared_error(input, z_target)\n",
    "        print(\"x: {0}, z: {1}, z_target: {2}, error: {3}\".format(input, n.z(input), z_target, error))\n",
    "\n",
    "    alpha = 0.1\n",
    "    nEpochs = 300\n",
    "    n.learning(alpha, nEpochs, d)\n",
    "\n",
    "    for idx in range(d.numTrainData):\n",
    "        input = d.training_input_value[idx]\n",
    "        z = n.z(input)\n",
    "        z_target = d.training_z_target[idx]\n",
    "        error = n.squared_error(input, z_target)\n",
    "        print(\"x: {0}, z: {1}, z_target: {2}, error: {3}\".format(input, n.z(input), z_target, error))"
   ]
  },
  {
   "cell_type": "code",
   "execution_count": null,
   "metadata": {
    "collapsed": true
   },
   "outputs": [],
   "source": []
  }
 ],
 "metadata": {
  "anaconda-cloud": {},
  "kernelspec": {
   "display_name": "Python 3",
   "language": "python",
   "name": "python3"
  },
  "language_info": {
   "codemirror_mode": {
    "name": "ipython",
    "version": 3
   },
   "file_extension": ".py",
   "mimetype": "text/x-python",
   "name": "python",
   "nbconvert_exporter": "python",
   "pygments_lexer": "ipython3",
   "version": "3.5.3"
  }
 },
 "nbformat": 4,
 "nbformat_minor": 0
}
